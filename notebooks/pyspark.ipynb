{
 "cells": [
  {
   "cell_type": "markdown",
   "metadata": {},
   "source": [
    "# CONTEXTO"
   ]
  },
  {
   "cell_type": "markdown",
   "metadata": {},
   "source": [
    "Como foco no aprendizado do PySpark, faremos uma análise de dados passando por etapas de limpeza, estatistica e analise exploratória com o objetivo de adquirir conhecimento sobre a ferramenta e colocar o aprendizado em prática.\n",
    "\n",
    "Usaremos o PySpark para analisar os dados da Netflix."
   ]
  },
  {
   "cell_type": "markdown",
   "metadata": {
    "id": "a_Vw8pVtgtLT"
   },
   "source": [
    "# 0.0 IMPORTAÇÕES"
   ]
  },
  {
   "cell_type": "code",
   "execution_count": 3,
   "metadata": {
    "id": "mCMu6C73gvsL"
   },
   "outputs": [],
   "source": [
    "from pyspark.sql import SparkSession  # importação para iniciar a sessão do pyspark\n",
    "from pyspark.sql.functions import *   # importação de funções para manipulação\n",
    "from pyspark.sql.types     import *   # impotação para mudar tipo de dados"
   ]
  },
  {
   "cell_type": "markdown",
   "metadata": {
    "id": "CzSqehZrg0rk"
   },
   "source": [
    "## 0.1 Criar Sessão PySpark"
   ]
  },
  {
   "cell_type": "code",
   "execution_count": 4,
   "metadata": {
    "id": "wnwBtiOvg5xa"
   },
   "outputs": [],
   "source": [
    "# criando sessão\n",
    "spark = (\n",
    "    SparkSession.builder\n",
    "    .master('local')              # local em que está rodando\n",
    "    .appName('Tutorial-Pyspark')  # nome da sessão\n",
    "    .getOrCreate()                # se já tiver sessão criada, reinicia ela. Caso não, cria a sessão\n",
    ")"
   ]
  },
  {
   "cell_type": "markdown",
   "metadata": {
    "id": "5G7EB3Pqg8mu"
   },
   "source": [
    "## 0.2 Carregamento de Dados"
   ]
  },
  {
   "cell_type": "code",
   "execution_count": 7,
   "metadata": {
    "colab": {
     "base_uri": "https://localhost:8080/"
    },
    "id": "gmWxfsT5g-BM",
    "outputId": "d5198501-6c37-4830-c1b5-3b871500f28f"
   },
   "outputs": [
    {
     "name": "stdout",
     "output_type": "stream",
     "text": [
      "+--------+--------------------+-----+--------------------+------------+-----------------+-------+--------------------+--------------------+-------+---------+----------+----------+---------------+----------+\n",
      "|      id|               title| type|         description|release_year|age_certification|runtime|              genres|production_countries|seasons|  imdb_id|imdb_score|imdb_votes|tmdb_popularity|tmdb_score|\n",
      "+--------+--------------------+-----+--------------------+------------+-----------------+-------+--------------------+--------------------+-------+---------+----------+----------+---------------+----------+\n",
      "|ts300399|Five Came Back: T...| SHOW|\"This collection ...|        1945|            TV-MA|     48|   ['documentation']|              ['US']|    1.0|     null|      null|      null|            0.6|      null|\n",
      "| tm84618|         Taxi Driver|MOVIE|A mentally unstab...|        1976|                R|    113|  ['crime', 'drama']|              ['US']|   null|tt0075314|       8.3|  795222.0|         27.612|       8.2|\n",
      "|tm127384|Monty Python and ...|MOVIE|\"King Arthur, acc...|        1975|               PG|     91|['comedy', 'fanta...|              ['GB']|   null|tt0071853|       8.2|  530877.0|         18.216|       7.8|\n",
      "| tm70993|       Life of Brian|MOVIE|Brian Cohen is an...|        1979|                R|     94|          ['comedy']|              ['GB']|   null|tt0079470|       8.0|  392419.0|         17.505|       7.8|\n",
      "|tm190788|        The Exorcist|MOVIE|12-year-old Regan...|        1973|                R|    133|          ['horror']|              ['US']|   null|tt0070047|       8.1|  391942.0|         95.337|       7.7|\n",
      "+--------+--------------------+-----+--------------------+------------+-----------------+-------+--------------------+--------------------+-------+---------+----------+----------+---------------+----------+\n",
      "only showing top 5 rows\n",
      "\n"
     ]
    }
   ],
   "source": [
    "# lendo dados\n",
    "data = spark.read.csv(\n",
    "    '/../data/titles.csv',  # caminho do arquivo csv\n",
    "    header=True,             # True: usar a primeira linha como cabeçalho\n",
    "    inferSchema=True         # True: pyspark automaticamente indentificará os tipos de dados nas colunas\n",
    ")\n",
    "\n",
    "data.show(5) # mostra as 5 primeiras colunas "
   ]
  },
  {
   "cell_type": "markdown",
   "metadata": {
    "id": "p101UdKFhC0D"
   },
   "source": [
    "# 1.0 DESCRIÇÃO DE DADOS"
   ]
  },
  {
   "cell_type": "markdown",
   "metadata": {
    "id": "vF49kGJzhD0X"
   },
   "source": [
    "## 1.1 Dimensão de Dados"
   ]
  },
  {
   "cell_type": "code",
   "execution_count": 9,
   "metadata": {
    "colab": {
     "base_uri": "https://localhost:8080/"
    },
    "id": "zUCBU4kRhFMV",
    "outputId": "392e8133-bbd1-42f6-cb53-e3fdb71a4c0e"
   },
   "outputs": [
    {
     "name": "stdout",
     "output_type": "stream",
     "text": [
      "Quantidade de colunas: 15\n",
      "Quantidade de linhas : 5894\n"
     ]
    }
   ],
   "source": [
    "colunas = len(data.columns)    # contando a quantidade de colunas\n",
    "linhas  = data.count()         # contando a quantidade de linhas\n",
    "\n",
    "# mostrando resultado com o print\n",
    "print('Quantidade de colunas:', colunas)\n",
    "print('Quantidade de linhas :', linhas)"
   ]
  },
  {
   "cell_type": "markdown",
   "metadata": {
    "id": "0o5t2xQNhPKQ"
   },
   "source": [
    "## 1.1 Tipo de Dados"
   ]
  },
  {
   "cell_type": "code",
   "execution_count": 10,
   "metadata": {
    "colab": {
     "base_uri": "https://localhost:8080/"
    },
    "id": "oafig6GbhQ2L",
    "outputId": "d1b02f8e-2141-4bac-aa0a-bfa65dacf41c"
   },
   "outputs": [
    {
     "name": "stdout",
     "output_type": "stream",
     "text": [
      "root\n",
      " |-- id: string (nullable = true)\n",
      " |-- title: string (nullable = true)\n",
      " |-- type: string (nullable = true)\n",
      " |-- description: string (nullable = true)\n",
      " |-- release_year: string (nullable = true)\n",
      " |-- age_certification: string (nullable = true)\n",
      " |-- runtime: string (nullable = true)\n",
      " |-- genres: string (nullable = true)\n",
      " |-- production_countries: string (nullable = true)\n",
      " |-- seasons: string (nullable = true)\n",
      " |-- imdb_id: string (nullable = true)\n",
      " |-- imdb_score: string (nullable = true)\n",
      " |-- imdb_votes: string (nullable = true)\n",
      " |-- tmdb_popularity: string (nullable = true)\n",
      " |-- tmdb_score: string (nullable = true)\n",
      "\n"
     ]
    }
   ],
   "source": [
    "data.printSchema() # mostra o tipo de dado que o pyspark indetificou para cada coluna"
   ]
  },
  {
   "cell_type": "markdown",
   "metadata": {
    "id": "cFsi-vYchZxt"
   },
   "source": [
    "## 1.2 Dados Faltantes"
   ]
  },
  {
   "cell_type": "markdown",
   "metadata": {
    "id": "ohyEZuXwlfhC"
   },
   "source": [
    "O método **filter** é usado para selecionar colunas especificas."
   ]
  },
  {
   "cell_type": "code",
   "execution_count": 17,
   "metadata": {
    "colab": {
     "base_uri": "https://localhost:8080/"
    },
    "id": "cNQJuDtzhbMZ",
    "outputId": "5ae51755-21dc-4113-8f0e-ff4a3a461c29"
   },
   "outputs": [
    {
     "name": "stdout",
     "output_type": "stream",
     "text": [
      "id 0\n",
      "title 3\n",
      "type 18\n",
      "description 42\n",
      "release_year 78\n",
      "age_certification 2593\n",
      "runtime 127\n",
      "genres 103\n",
      "production_countries 106\n",
      "seasons 3707\n",
      "imdb_id 592\n",
      "imdb_score 626\n",
      "imdb_votes 652\n",
      "tmdb_popularity 234\n",
      "tmdb_score 436\n"
     ]
    }
   ],
   "source": [
    "# percorrendo as colunas com loop for\n",
    "for col in data.columns:\n",
    "    print(col, data.filter(data[col].isNull()).count()) # filtra a coluna, verifica se há nulos e conta"
   ]
  },
  {
   "cell_type": "markdown",
   "metadata": {
    "id": "wJNHQSanlxW4"
   },
   "source": [
    "## 1.3 Estatistica Descritiva"
   ]
  },
  {
   "cell_type": "markdown",
   "metadata": {
    "id": "UHJGOb9boIPu"
   },
   "source": [
    "### 1.3.1 Atributos Numéricos"
   ]
  },
  {
   "cell_type": "markdown",
   "metadata": {
    "id": "PHsX-3A5oNMA"
   },
   "source": [
    "### 1.3.2 Atributos Categóricos"
   ]
  }
 ],
 "metadata": {
  "colab": {
   "collapsed_sections": [],
   "name": "pyspark.ipynb",
   "provenance": []
  },
  "kernelspec": {
   "display_name": "Python 3 (ipykernel)",
   "language": "python",
   "name": "python3"
  },
  "language_info": {
   "codemirror_mode": {
    "name": "ipython",
    "version": 3
   },
   "file_extension": ".py",
   "mimetype": "text/x-python",
   "name": "python",
   "nbconvert_exporter": "python",
   "pygments_lexer": "ipython3",
   "version": "3.9.6"
  }
 },
 "nbformat": 4,
 "nbformat_minor": 1
}
